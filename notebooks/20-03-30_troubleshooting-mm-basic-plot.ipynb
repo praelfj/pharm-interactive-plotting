{
 "cells": [
  {
   "cell_type": "markdown",
   "metadata": {},
   "source": [
    "# troubleshooting bisc plot for Michaelis-Menten equation on Bokeh\n",
    "troubleshooting getting the first plot up and running: just a simple set of Michaelis-Menten data that can have the Vmax and Km changed interactively"
   ]
  },
  {
   "cell_type": "code",
   "execution_count": null,
   "metadata": {},
   "outputs": [],
   "source": [
    "# import libraries\n",
    "import os\n",
    "import sys\n",
    "import numpy as np\n",
    "import matplotlib.pyplot as plt\n",
    "\n",
    "from bokeh.layouts import row, column\n",
    "from bokeh.models import CustomJS, Slider, Label\n",
    "from bokeh.plotting import figure, output_file, show, ColumnDataSource\n",
    "from bokeh.io import output_notebook\n",
    "\n",
    "root_dir = os.path.join(os.getcwd(), '..')\n",
    "sys.path.append(root_dir)\n",
    "\n",
    "from pharmaplot import mm"
   ]
  },
  {
   "cell_type": "code",
   "execution_count": null,
   "metadata": {},
   "outputs": [],
   "source": [
    "# generate some fake data and make sure it looks ok\n",
    "x = np.logspace(-3, 2, num=500)\n",
    "y = mm.michaelis_menten(x, 100, 10)\n",
    "\n",
    "plt.plot(x,y)"
   ]
  },
  {
   "cell_type": "code",
   "execution_count": null,
   "metadata": {},
   "outputs": [],
   "source": [
    "# set to display in notebook as opposed to making an html\n",
    "output_notebook()"
   ]
  },
  {
   "cell_type": "code",
   "execution_count": null,
   "metadata": {},
   "outputs": [],
   "source": [
    "## generate bokeh plot using the above data\n",
    "\n",
    "# set up source data and plot lines that will vary\n",
    "source = ColumnDataSource(data=dict(x=x, y=y))\n",
    "\n",
    "plot = figure(y_range=(0, 200), plot_width=600, plot_height=400, \n",
    "              x_axis_label='[S]: substrate concentration (μM)',\n",
    "              y_axis_label='initial velocity (μM/s)',\n",
    "              title='Michaelis-Menten Kinetics')\n",
    "\n",
    "plot.line('x', 'y', source=source, line_width=3, line_alpha=0.6, color='black')\n",
    "\n",
    "# set up static line and annotations\n",
    "plot.line(x, y, line_width=5, color='blue', line_alpha=0.3)\n",
    "\n",
    "mytext = Label(x=50, y=70, text='Km = 10 (μM), Vmax = 100 (μM/s)', \n",
    "               text_color=\"blue\", text_alpha=0.5)\n",
    "plot.add_layout(mytext)\n",
    "\n",
    "# set up java script callback function to make plot interactive\n",
    "vmax_slider = Slider(start=0.1, end=200, value=100, step=1, title=\"Vmax (μM/s)\")\n",
    "km_slider = Slider(start=1, end=100, value=10, step=1, title=\"Km (μM)\")\n",
    "\n",
    "callback = CustomJS(args=dict(source=source, \n",
    "                              vmax=vmax_slider, \n",
    "                              km=km_slider),\n",
    "                    code=\"\"\"\n",
    "    const data = source.data;\n",
    "    const VMAX = vmax.value;\n",
    "    const KM = km.value;\n",
    "    const x = data['x']\n",
    "    const y = data['y']\n",
    "    for (var i = 0; i < x.length; i++) {\n",
    "        y[i] = (VMAX*x[i])/(KM+x[i]);\n",
    "    }\n",
    "    source.change.emit();\n",
    "\"\"\")\n",
    "\n",
    "# add sliders to plot and display\n",
    "vmax_slider.js_on_change('value', callback)\n",
    "km_slider.js_on_change('value', callback)\n",
    "\n",
    "layout = row(\n",
    "    plot,\n",
    "    column(vmax_slider, km_slider),\n",
    ")\n",
    "\n",
    "#output_file(\"mm.html\", title=\"mm.py example\")\n",
    "show(layout)"
   ]
  },
  {
   "cell_type": "markdown",
   "metadata": {},
   "source": [
    "this line is a notebook test to see if nbstripout is working"
   ]
  }
 ],
 "metadata": {
  "kernelspec": {
   "display_name": "Python 3",
   "language": "python",
   "name": "python3"
  },
  "language_info": {
   "codemirror_mode": {
    "name": "ipython",
    "version": 3
   },
   "file_extension": ".py",
   "mimetype": "text/x-python",
   "name": "python",
   "nbconvert_exporter": "python",
   "pygments_lexer": "ipython3",
   "version": "3.7.7"
  }
 },
 "nbformat": 4,
 "nbformat_minor": 2
}
