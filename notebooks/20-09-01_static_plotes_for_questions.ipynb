{
 "cells": [
  {
   "cell_type": "markdown",
   "metadata": {},
   "source": [
    "# Static plots for questions\n",
    "__objective__: write questions based on static plots to help guide students to learn about different pharmacology concepts using the interactive visualizaitons."
   ]
  },
  {
   "cell_type": "code",
   "execution_count": null,
   "metadata": {},
   "outputs": [],
   "source": [
    "import os\n",
    "import sys\n",
    "import numpy as np\n",
    "import matplotlib.pyplot as plt\n",
    "import seaborn as sns\n",
    "\n",
    "root_dir = os.path.join(os.getcwd(), '..')\n",
    "sys.path.append(root_dir)\n",
    "\n",
    "from pharmaplot import mm\n",
    "import pharmaplot.receptors as rec"
   ]
  },
  {
   "cell_type": "code",
   "execution_count": null,
   "metadata": {},
   "outputs": [],
   "source": [
    "# set style\n",
    "sns.set(style='whitegrid')"
   ]
  },
  {
   "cell_type": "markdown",
   "metadata": {},
   "source": [
    "## saturation binding questions"
   ]
  },
  {
   "cell_type": "code",
   "execution_count": null,
   "metadata": {},
   "outputs": [],
   "source": [
    "log_start = -9\n",
    "log_end = -3\n",
    "bmax= 100\n",
    "kd = 1e-6\n",
    "\n",
    "x_line = np.logspace(log_start, log_end, num=100)\n",
    "x_log_line = np.log10(x_line)\n",
    "y_line = rec.specific_binding(x_line, bmax, kd)\n",
    "y_line_alt = rec.specific_binding(x_line, 200, kd)\n",
    "\n",
    "x_points = np.logspace(log_start, log_end, num=16)\n",
    "x_log_points = np.log10(x_points)\n",
    "y_points = rec.specific_binding(x_points, bmax, kd)\n",
    "y_points_alt = rec.specific_binding(x_points, 200, kd)\n",
    "\n",
    "plt.plot(x_log_line, y_line, color='purple')\n",
    "plt.scatter(x_log_points, y_points, label='cell line #1', color='purple')\n",
    "\n",
    "plt.plot(x_log_line, y_line_alt, c='slategray')\n",
    "plt.scatter(x_log_points, y_points_alt, color='slategray', label='cell line #2')\n",
    "#plt.scatter(x_log_points, y_points_alt, color='slategray', s=200, alpha=0.3)\n",
    "plt.ylabel('% Specific Binding')\n",
    "plt.xlabel('log[compound (M)]')\n",
    "plt.legend()"
   ]
  },
  {
   "cell_type": "markdown",
   "metadata": {},
   "source": [
    "You have a specific radioligand for a GPCR X and two cell lines with unknown expression of X. You run a radioligand binding experiment and observe the following results: \n",
    "\n",
    "In terms of the BMAX of the above saturation bindng curves, which of the following statements is consistent with the above data?\n",
    "1. cell line #1 has a larger BMAX than cell line #2\n",
    "2. cell line #1 has a smaller BMAX than cell line #2\n",
    "3. cell line #1 has an equal BMAX to cell line #2\n",
    "4. there is not enough information to infer the relative differences in BMAX between cell line #1 and cell line #2\n",
    "\n",
    "In terms of the Kd of the above saturation bindng curves, which of the following statements is consistent with the above data?\n",
    "1. cell line #1 has a larger Kd than cell line #2\n",
    "2. cell line #1 has a smaller Kd than cell line #2\n",
    "3. cell line #1 has an equal Kd to cell line #2\n",
    "4. there is not enough information to infer the relative differences in Kd between cell line #1 and cell line #2\n",
    "\n",
    "Your colleague looks at these data an comments that they think that cell line #2 has twice the receptor expression as cell line #1. Do the data agree with your colleague's statement?\n",
    "1. Yes\n",
    "2. No"
   ]
  },
  {
   "cell_type": "code",
   "execution_count": null,
   "metadata": {},
   "outputs": [],
   "source": [
    "log_start = -9\n",
    "log_end = -3\n",
    "bmax= 100\n",
    "kd = 1e-6\n",
    "\n",
    "x_line = np.logspace(log_start, log_end, num=100)\n",
    "x_log_line = np.log10(x_line)\n",
    "y_line = rec.specific_binding(x_line, bmax, kd)\n",
    "y_line_alt = rec.specific_binding(x_line, 60, 1e-5)\n",
    "\n",
    "x_points = np.logspace(log_start, log_end, num=16)\n",
    "x_log_points = np.log10(x_points)\n",
    "y_points = rec.specific_binding(x_points, bmax, kd)\n",
    "y_points_alt = rec.specific_binding(x_points, 60, 1e-5)\n",
    "\n",
    "plt.scatter(x_log_points, y_points, color='orange')\n",
    "plt.plot(x_log_line, y_line_alt, c='orange')\n",
    "\n",
    "plt.ylabel('% Specific Binding')\n",
    "plt.xlabel('log[compound (M)]')\n"
   ]
  },
  {
   "cell_type": "markdown",
   "metadata": {},
   "source": [
    "For a separate compound, you perform a radioligand binding experiment. However, while the data from the dose response curve look reasonable (points), when you tried using nonlinear regression to fit the curve, you spilled coffee on your laptop, you're worried that the fit(line) may not best represent the points. Which of the following statements is true?\n",
    "1. the fit's BMAX and Kd values are greater than the the appropriate BMAX and Kd values\n",
    "* the fit's BMAX and Kd values are less than the the appropriate BMAX and Kd values\n",
    "* the fit's BMAX value is greater than the appropriate BMAX value, but the Kd value is appropriate\n",
    "* the fit's BMAX value is less than the appropriate BMAX value, but the Kd value is appropriate\n",
    "* the fit's Kd value is greater than the appropriate Kd value, but the BMAX value is appropriate\n",
    "* the fit's Kd value is less than the appropriate Kd value, but the BMAX value is appropriate"
   ]
  },
  {
   "cell_type": "markdown",
   "metadata": {},
   "source": [
    "## scatchard questions"
   ]
  },
  {
   "cell_type": "code",
   "execution_count": null,
   "metadata": {},
   "outputs": [],
   "source": []
  },
  {
   "cell_type": "markdown",
   "metadata": {},
   "source": [
    "## competitive binding questions"
   ]
  },
  {
   "cell_type": "code",
   "execution_count": null,
   "metadata": {},
   "outputs": [],
   "source": []
  },
  {
   "cell_type": "markdown",
   "metadata": {},
   "source": [
    "## dose response questions"
   ]
  },
  {
   "cell_type": "code",
   "execution_count": null,
   "metadata": {},
   "outputs": [],
   "source": [
    "log_start = -9\n",
    "log_end = -3\n",
    "top = 100\n",
    "bottom = 0\n",
    "hillslope = 1\n",
    "logec50 = -6\n",
    "\n",
    "x_line = np.linspace(log_start, log_end, num=100)\n",
    "y_line = rec.four_parameter_logistic_equation(x_line, top, bottom, hillslope, logec50)\n",
    "\n",
    "x_points = np.linspace(log_start, log_end, num=16)\n",
    "y_points = rec.four_parameter_logistic_equation(x_points, top, bottom, hillslope, logec50)\n",
    "y_points_alt = rec.four_parameter_logistic_equation(x_points, top, bottom, hillslope, -8)\n",
    "\n",
    "plt.plot(x_line, y_line)\n",
    "plt.scatter(x_points, y_points, label='compound #1')\n",
    "plt.scatter(x_points, y_points_alt, color='goldenrod', label='compound #2')\n",
    "plt.scatter(x_points, y_points_alt, s=200, alpha=0.3)\n",
    "plt.xlabel('log[compound (M)]')\n",
    "plt.ylabel('% response')\n",
    "plt.legend(loc='lower right')"
   ]
  },
  {
   "cell_type": "markdown",
   "metadata": {},
   "source": [
    "The students are screening compounds for treating disease X. The best compound they have is compound #1. A medicinal chemist you all collaborate with has synthesized an analog, compound #2. You run dose-response assays using both compounds, and you observe the following result:\n",
    "\n",
    "Relative to your previous best compound (compound #1), which of the following statements is true for compound #2?\n",
    "1. Compound #2 has a greater Hill Slope than compound #1\n",
    "2. Compound #2 has a smaller Hill Slope than compound #1\n",
    "3. Compound #2 has a greater EC50 than compound #1\n",
    "4. Compound #2 has a smaller EC50 than compound #1 \n",
    "\n",
    "Which compound is more active at lower doses (i.e. has higher potency) ?\n",
    "1. Compound #1\n",
    "2. Compound #2\n",
    "\n",
    "Therefore, a lower EC50 correlates with:\n",
    "1. lower potency\n",
    "2. higher potency\n",
    "\n",
    "If you want to do text boxes,  you could mix and match these with short answer, e.g. with the following question:\n",
    "* Given that off-target effects increase as more compound is dosed to reach a therapeutic effect, which compound do you think would be better suited as a therapeutic, compound #1 or compound #2? Why?"
   ]
  },
  {
   "cell_type": "code",
   "execution_count": null,
   "metadata": {},
   "outputs": [],
   "source": [
    "log_start = -9\n",
    "log_end = -3\n",
    "top = 100\n",
    "bottom = 0\n",
    "hillslope = 1\n",
    "logec50 = -6\n",
    "\n",
    "x_line = np.linspace(log_start, log_end, num=100)\n",
    "y_line = rec.four_parameter_logistic_equation(x_line, top, bottom, hillslope, logec50)\n",
    "\n",
    "x_points = np.linspace(log_start, log_end, num=16)\n",
    "y_points = rec.four_parameter_logistic_equation(x_points, top, bottom, hillslope, logec50)\n",
    "y_points_alt = rec.four_parameter_logistic_equation(x_points, top, bottom, 2.5, logec50)\n",
    "\n",
    "plt.plot(x_line, y_line)\n",
    "plt.scatter(x_points, y_points, label='compound #1')\n",
    "plt.scatter(x_points, y_points_alt, color='green', label='compound #3')\n",
    "plt.scatter(x_points, y_points_alt, color='green', s=200, alpha=0.3)\n",
    "plt.xlabel('log[compound (M)]')\n",
    "plt.ylabel('% response')\n",
    "plt.legend(loc='lower right')"
   ]
  },
  {
   "cell_type": "markdown",
   "metadata": {},
   "source": [
    "The chemist you are collaborating with synthesizes a third compund, compound #3. After running dose response curves, you obeserve the following result:\n",
    "\n",
    "Relative to your previous best compound (compound #1), which of the following statements is true for compound #3?\n",
    "1. Compound #3 has a greater Hill Slope than compound #1\n",
    "2. Compound #3 has a smaller Hill Slope than compound #1\n",
    "3. Compound #3 has a greater EC50 than compound #1\n",
    "4. Compound #3 has a smaller EC50 than compound #1 \n",
    "\n",
    "\n",
    "Going from lower concentrations to higher concentrations, which compound reaches maximal activity first?\n",
    "1. compound #1\n",
    "2. compound #3\n",
    "\n",
    "Going from lower concentrations to higher concentrations, which compund begins to have activity above 0% first?\n",
    "1. compound #1\n",
    "2. compound #3\n",
    "\n",
    "Which compund is active over a broader range of concentrations?\n",
    "1. compound #1\n",
    "2. compound #3\n",
    "\n",
    "If compound #1 has a Hill Slope = 1, which of the following statements is consistent with the data above?\n",
    "1. compound #3 exhibits positive cooperativity\n",
    "2. compound #3 exhibits negative cooperativity\n",
    "3. compound #3 exhibits no cooperativity\n",
    "4. not enough information to comment on the cooperativity of compound #3"
   ]
  },
  {
   "cell_type": "markdown",
   "metadata": {},
   "source": [
    "You want to dose this compound in an animal model of disease X. Unfortunately, you are unsure about how the efficacy in the cell-based system above translates to efficacy in the animal model (i.e. you can only ballpark guess ... However, The assays for the animal model are expensive, so you do not have enough funding to run a dose-response curve in the animal model. \n",
    "1. compound #1\n",
    "2. compound #3"
   ]
  }
 ],
 "metadata": {
  "kernelspec": {
   "display_name": "Python 3",
   "language": "python",
   "name": "python3"
  },
  "language_info": {
   "codemirror_mode": {
    "name": "ipython",
    "version": 3
   },
   "file_extension": ".py",
   "mimetype": "text/x-python",
   "name": "python",
   "nbconvert_exporter": "python",
   "pygments_lexer": "ipython3",
   "version": "3.7.7"
  }
 },
 "nbformat": 4,
 "nbformat_minor": 4
}
